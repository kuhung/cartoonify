{
 "cells": [
  {
   "cell_type": "code",
   "execution_count": 1,
   "metadata": {},
   "outputs": [],
   "source": [
    "%config Completer.use_jedi=False\n",
    "%load_ext autoreload\n",
    "%autoreload 2"
   ]
  },
  {
   "cell_type": "code",
   "execution_count": 2,
   "metadata": {},
   "outputs": [],
   "source": [
    "import sys\n",
    "sys.path.append(\"../\")"
   ]
  },
  {
   "cell_type": "code",
   "execution_count": 3,
   "metadata": {},
   "outputs": [],
   "source": [
    "import base64\n",
    "import requests\n",
    "import torch\n",
    "import os\n",
    "import numpy as np\n",
    "import argparse\n",
    "from PIL import Image\n",
    "import torchvision.transforms as transforms\n",
    "from torch.autograd import Variable\n",
    "import torchvision.utils as vutils\n",
    "from network.Transformer import Transformer\n",
    "\n",
    "from tqdm import tqdm_notebook\n",
    "from test_from_code import transform\n",
    "\n",
    "import onnx\n",
    "import onnxruntime"
   ]
  },
  {
   "cell_type": "code",
   "execution_count": 4,
   "metadata": {},
   "outputs": [],
   "source": [
    "os.environ['KMP_DUPLICATE_LIB_OK']='True'"
   ]
  },
  {
   "cell_type": "code",
   "execution_count": 5,
   "metadata": {},
   "outputs": [
    {
     "name": "stderr",
     "output_type": "stream",
     "text": [
      "<ipython-input-5-c94cf6aa6481>:5: TqdmDeprecationWarning: This function will be removed in tqdm==5.0.0\n",
      "Please use `tqdm.notebook.tqdm` instead of `tqdm.tqdm_notebook`\n",
      "  for style in tqdm_notebook(styles):\n"
     ]
    },
    {
     "data": {
      "application/vnd.jupyter.widget-view+json": {
       "model_id": "d035944341fe40bc96933d2c2dd8019a",
       "version_major": 2,
       "version_minor": 0
      },
      "text/plain": [
       "  0%|          | 0/4 [00:00<?, ?it/s]"
      ]
     },
     "metadata": {},
     "output_type": "display_data"
    }
   ],
   "source": [
    "styles = [\"Hosoda\", \"Hayao\", \"Shinkai\", \"Paprika\"]\n",
    "\n",
    "models = {}\n",
    "\n",
    "for style in tqdm_notebook(styles):\n",
    "    model = Transformer()\n",
    "    model.load_state_dict(torch.load(os.path.join(\"./../pretrained_models/\", style + '_net_G_float.pth')))\n",
    "    model.eval()\n",
    "    models[style] = model"
   ]
  },
  {
   "cell_type": "code",
   "execution_count": 7,
   "metadata": {},
   "outputs": [
    {
     "name": "stderr",
     "output_type": "stream",
     "text": [
      "<ipython-input-7-69d7522519b8>:1: TqdmDeprecationWarning: This function will be removed in tqdm==5.0.0\n",
      "Please use `tqdm.notebook.tqdm` instead of `tqdm.tqdm_notebook`\n",
      "  for style in tqdm_notebook(styles):\n"
     ]
    },
    {
     "data": {
      "application/vnd.jupyter.widget-view+json": {
       "model_id": "99c71d14620e408a8702ebe57c45831b",
       "version_major": 2,
       "version_minor": 0
      },
      "text/plain": [
       "  0%|          | 0/4 [00:00<?, ?it/s]"
      ]
     },
     "metadata": {},
     "output_type": "display_data"
    },
    {
     "name": "stdout",
     "output_type": "stream",
     "text": [
      "model Hosoda saved!\n",
      "model Hayao saved!\n",
      "model Shinkai saved!\n",
      "model Paprika saved!\n"
     ]
    }
   ],
   "source": [
    "for style in tqdm_notebook(styles):\n",
    "    model = models[style]\n",
    "    x = torch.randn(1, 3, 224, 224, requires_grad=True)\n",
    "    \n",
    "    torch.onnx.export(model, \n",
    "                      x, \n",
    "                      f\"../pretrained_models/onnx/{style}.onnx\", \n",
    "                      export_params=True, \n",
    "                      opset_version=10, \n",
    "                      do_constant_folding=True, \n",
    "                      input_names=[\"input\"], \n",
    "                      output_names=[\"output\"], \n",
    "                      dynamic_axes={\"input\": \n",
    "                                    {0: \"batch_size\",\n",
    "                                     2: \"width\", \n",
    "                                     3: \"height\"}\n",
    "                                   }\n",
    "                     )\n",
    "    \n",
    "    onnx_model = onnx.load(f\"../pretrained_models/onnx/{style}.onnx\")\n",
    "    onnx.checker.check_model(onnx_model)\n",
    "    \n",
    "    ort_session = onnxruntime.InferenceSession(f\"../pretrained_models/onnx/{style}.onnx\")\n",
    "    \n",
    "    array = np.random.random((1, 3, 312, 450))\n",
    "    array = np.array(array, dtype=np.float32)\n",
    "    ort_inputs = {ort_session.get_inputs()[0].name: array}\n",
    "    ort_outs = ort_session.run(None, ort_inputs)\n",
    "    \n",
    "    print(f\"model {style} saved!\")"
   ]
  },
  {
   "cell_type": "markdown",
   "metadata": {},
   "source": [
    "### Inference using onnx models"
   ]
  },
  {
   "cell_type": "code",
   "execution_count": 8,
   "metadata": {},
   "outputs": [],
   "source": [
    "onnx_model = onnx.load(\"../pretrained_models/onnx/Hayao.onnx\")\n",
    "onnx.checker.check_model(onnx_model)\n",
    "ort_session = onnxruntime.InferenceSession(f\"../pretrained_models/onnx/Hayao.onnx\")"
   ]
  },
  {
   "cell_type": "code",
   "execution_count": 9,
   "metadata": {},
   "outputs": [
    {
     "name": "stdout",
     "output_type": "stream",
     "text": [
      "CPU times: user 2.75 s, sys: 0 ns, total: 2.75 s\n",
      "Wall time: 1.38 s\n"
     ]
    }
   ],
   "source": [
    "%%time\n",
    "\n",
    "array = np.random.random((1, 3, 300, 400))\n",
    "array = np.array(array, dtype=np.float32)\n",
    "\n",
    "ort_inputs = {ort_session.get_inputs()[0].name: array}\n",
    "ort_outs = ort_session.run(None, ort_inputs)"
   ]
  },
  {
   "cell_type": "code",
   "execution_count": null,
   "metadata": {},
   "outputs": [],
   "source": []
  }
 ],
 "metadata": {
  "kernelspec": {
   "display_name": "Python 3",
   "language": "python",
   "name": "python3"
  },
  "language_info": {
   "codemirror_mode": {
    "name": "ipython",
    "version": 3
   },
   "file_extension": ".py",
   "mimetype": "text/x-python",
   "name": "python",
   "nbconvert_exporter": "python",
   "pygments_lexer": "ipython3",
   "version": "3.8.8"
  }
 },
 "nbformat": 4,
 "nbformat_minor": 4
}
